{
 "cells": [
  {
   "cell_type": "markdown",
   "id": "b9cd7644-2c7b-4edb-985a-ce424ee5cae9",
   "metadata": {},
   "source": [
    "### Data Collecting"
   ]
  },
  {
   "cell_type": "code",
   "execution_count": 1,
   "id": "75a08a04-d28a-41ac-887f-1e5cca1b3dbf",
   "metadata": {},
   "outputs": [
    {
     "data": {
      "text/html": [
       "<div>\n",
       "<style scoped>\n",
       "    .dataframe tbody tr th:only-of-type {\n",
       "        vertical-align: middle;\n",
       "    }\n",
       "\n",
       "    .dataframe tbody tr th {\n",
       "        vertical-align: top;\n",
       "    }\n",
       "\n",
       "    .dataframe thead th {\n",
       "        text-align: right;\n",
       "    }\n",
       "</style>\n",
       "<table border=\"1\" class=\"dataframe\">\n",
       "  <thead>\n",
       "    <tr style=\"text-align: right;\">\n",
       "      <th></th>\n",
       "      <th>id_player</th>\n",
       "      <th>player</th>\n",
       "      <th>nation</th>\n",
       "      <th>klub</th>\n",
       "      <th>age</th>\n",
       "      <th>competition</th>\n",
       "      <th>OPA</th>\n",
       "      <th>OPA/90</th>\n",
       "    </tr>\n",
       "  </thead>\n",
       "  <tbody>\n",
       "    <tr>\n",
       "      <th>0</th>\n",
       "      <td>1</td>\n",
       "      <td>Alisson</td>\n",
       "      <td>Brazil</td>\n",
       "      <td>Liverpool</td>\n",
       "      <td>29</td>\n",
       "      <td>Premier League</td>\n",
       "      <td>89</td>\n",
       "      <td>2,41</td>\n",
       "    </tr>\n",
       "    <tr>\n",
       "      <th>1</th>\n",
       "      <td>2</td>\n",
       "      <td>Alphonse Aerola</td>\n",
       "      <td>France</td>\n",
       "      <td>West Ham</td>\n",
       "      <td>29</td>\n",
       "      <td>Premier League</td>\n",
       "      <td>1</td>\n",
       "      <td>0,29</td>\n",
       "    </tr>\n",
       "    <tr>\n",
       "      <th>2</th>\n",
       "      <td>3</td>\n",
       "      <td>Kepa Arrizabalaga</td>\n",
       "      <td>Spain</td>\n",
       "      <td>Chelsea</td>\n",
       "      <td>27</td>\n",
       "      <td>Premier League</td>\n",
       "      <td>52</td>\n",
       "      <td>1,82</td>\n",
       "    </tr>\n",
       "    <tr>\n",
       "      <th>3</th>\n",
       "      <td>4</td>\n",
       "      <td>Gavin Bazunu</td>\n",
       "      <td>Ireland</td>\n",
       "      <td>Southampton</td>\n",
       "      <td>20</td>\n",
       "      <td>Premier League</td>\n",
       "      <td>48</td>\n",
       "      <td>1,50</td>\n",
       "    </tr>\n",
       "    <tr>\n",
       "      <th>4</th>\n",
       "      <td>5</td>\n",
       "      <td>Asmir Begovic</td>\n",
       "      <td>Bosnia and Herzegovina</td>\n",
       "      <td>Everton</td>\n",
       "      <td>35</td>\n",
       "      <td>Premier League</td>\n",
       "      <td>0</td>\n",
       "      <td>0,00</td>\n",
       "    </tr>\n",
       "    <tr>\n",
       "      <th>...</th>\n",
       "      <td>...</td>\n",
       "      <td>...</td>\n",
       "      <td>...</td>\n",
       "      <td>...</td>\n",
       "      <td>...</td>\n",
       "      <td>...</td>\n",
       "      <td>...</td>\n",
       "      <td>...</td>\n",
       "    </tr>\n",
       "    <tr>\n",
       "      <th>161</th>\n",
       "      <td>163</td>\n",
       "      <td>Martin Turk</td>\n",
       "      <td>Slovenia</td>\n",
       "      <td>Sampdoria</td>\n",
       "      <td>18</td>\n",
       "      <td>SerieA</td>\n",
       "      <td>2</td>\n",
       "      <td>0,50</td>\n",
       "    </tr>\n",
       "    <tr>\n",
       "      <th>162</th>\n",
       "      <td>164</td>\n",
       "      <td>Samir Ujkani</td>\n",
       "      <td>Kosovo</td>\n",
       "      <td>Empoli</td>\n",
       "      <td>34</td>\n",
       "      <td>SerieA</td>\n",
       "      <td>0</td>\n",
       "      <td>0,00</td>\n",
       "    </tr>\n",
       "    <tr>\n",
       "      <th>163</th>\n",
       "      <td>165</td>\n",
       "      <td>Guglielmo Vicaro</td>\n",
       "      <td>Italy</td>\n",
       "      <td>Empoli</td>\n",
       "      <td>25</td>\n",
       "      <td>SerieA</td>\n",
       "      <td>22</td>\n",
       "      <td>0,71</td>\n",
       "    </tr>\n",
       "    <tr>\n",
       "      <th>164</th>\n",
       "      <td>166</td>\n",
       "      <td>Jeroen Zoet</td>\n",
       "      <td>Netherlands</td>\n",
       "      <td>Spezia</td>\n",
       "      <td>31</td>\n",
       "      <td>SerieA</td>\n",
       "      <td>6</td>\n",
       "      <td>1,61</td>\n",
       "    </tr>\n",
       "    <tr>\n",
       "      <th>165</th>\n",
       "      <td>167</td>\n",
       "      <td>Petar Zovko</td>\n",
       "      <td>Bosnia and Herzegovina</td>\n",
       "      <td>Spezia</td>\n",
       "      <td>20</td>\n",
       "      <td>SerieA</td>\n",
       "      <td>2</td>\n",
       "      <td>2,47</td>\n",
       "    </tr>\n",
       "  </tbody>\n",
       "</table>\n",
       "<p>166 rows × 8 columns</p>\n",
       "</div>"
      ],
      "text/plain": [
       "     id_player             player                  nation         klub  age  \\\n",
       "0            1            Alisson                  Brazil    Liverpool   29   \n",
       "1            2    Alphonse Aerola                  France     West Ham   29   \n",
       "2            3  Kepa Arrizabalaga                   Spain      Chelsea   27   \n",
       "3            4       Gavin Bazunu                 Ireland  Southampton   20   \n",
       "4            5      Asmir Begovic  Bosnia and Herzegovina      Everton   35   \n",
       "..         ...                ...                     ...          ...  ...   \n",
       "161        163        Martin Turk                Slovenia    Sampdoria   18   \n",
       "162        164       Samir Ujkani                  Kosovo       Empoli   34   \n",
       "163        165   Guglielmo Vicaro                   Italy       Empoli   25   \n",
       "164        166        Jeroen Zoet             Netherlands       Spezia   31   \n",
       "165        167        Petar Zovko  Bosnia and Herzegovina       Spezia   20   \n",
       "\n",
       "        competition  OPA OPA/90  \n",
       "0    Premier League   89   2,41  \n",
       "1    Premier League    1   0,29  \n",
       "2    Premier League   52   1,82  \n",
       "3    Premier League   48   1,50  \n",
       "4    Premier League    0   0,00  \n",
       "..              ...  ...    ...  \n",
       "161          SerieA    2   0,50  \n",
       "162          SerieA    0   0,00  \n",
       "163          SerieA   22   0,71  \n",
       "164          SerieA    6   1,61  \n",
       "165          SerieA    2   2,47  \n",
       "\n",
       "[166 rows x 8 columns]"
      ]
     },
     "execution_count": 1,
     "metadata": {},
     "output_type": "execute_result"
    }
   ],
   "source": [
    "import pandas as pd\n",
    "import numpy as np\n",
    "import matplotlib.pyplot as plt\n",
    "\n",
    "#membuat data file ke DataFrame\n",
    "df = pd.read_csv('goalkeeper1.csv', delimiter=';')\n",
    "df"
   ]
  },
  {
   "cell_type": "code",
   "execution_count": 2,
   "id": "1d899dea-f2ed-419c-946f-c95ec6d25886",
   "metadata": {},
   "outputs": [
    {
     "name": "stdout",
     "output_type": "stream",
     "text": [
      "<class 'pandas.core.frame.DataFrame'>\n",
      "RangeIndex: 166 entries, 0 to 165\n",
      "Data columns (total 8 columns):\n",
      " #   Column       Non-Null Count  Dtype \n",
      "---  ------       --------------  ----- \n",
      " 0   id_player    166 non-null    int64 \n",
      " 1   player       166 non-null    object\n",
      " 2   nation       166 non-null    object\n",
      " 3   klub         166 non-null    object\n",
      " 4   age          166 non-null    int64 \n",
      " 5   competition  166 non-null    object\n",
      " 6   OPA          166 non-null    int64 \n",
      " 7   OPA/90       166 non-null    object\n",
      "dtypes: int64(3), object(5)\n",
      "memory usage: 10.5+ KB\n"
     ]
    }
   ],
   "source": [
    "df.info()"
   ]
  },
  {
   "cell_type": "markdown",
   "id": "f9fff1a9-4b9f-4cbc-b98e-d74d4624cf2a",
   "metadata": {},
   "source": [
    "### Eksplorasi Data Analisis"
   ]
  },
  {
   "cell_type": "code",
   "execution_count": 3,
   "id": "b04fbaeb-ba78-4d09-88f9-8020dc44760f",
   "metadata": {},
   "outputs": [
    {
     "data": {
      "text/plain": [
       "(166, 8)"
      ]
     },
     "execution_count": 3,
     "metadata": {},
     "output_type": "execute_result"
    }
   ],
   "source": [
    "# memeriksa dimensi data\n",
    "import numpy as np\n",
    "np.shape(df)"
   ]
  },
  {
   "cell_type": "code",
   "execution_count": 4,
   "id": "f2f24814-67e4-40f5-afb8-b2c299d688c1",
   "metadata": {},
   "outputs": [
    {
     "data": {
      "text/plain": [
       "id_player      False\n",
       "player         False\n",
       "nation         False\n",
       "klub           False\n",
       "age            False\n",
       "competition    False\n",
       "OPA            False\n",
       "OPA/90         False\n",
       "dtype: bool"
      ]
     },
     "execution_count": 4,
     "metadata": {},
     "output_type": "execute_result"
    }
   ],
   "source": [
    "df.isnull().any()"
   ]
  },
  {
   "cell_type": "code",
   "execution_count": 5,
   "id": "f32d993a-d5e3-4651-a68a-e0a3610a5f10",
   "metadata": {},
   "outputs": [
    {
     "data": {
      "text/plain": [
       "id_player       int64\n",
       "player         object\n",
       "nation         object\n",
       "klub           object\n",
       "age             int64\n",
       "competition    object\n",
       "OPA             int64\n",
       "OPA/90         object\n",
       "dtype: object"
      ]
     },
     "execution_count": 5,
     "metadata": {},
     "output_type": "execute_result"
    }
   ],
   "source": [
    "#Memeriksa Jenis Data setiap Variabel\n",
    "df.dtypes"
   ]
  },
  {
   "cell_type": "code",
   "execution_count": 6,
   "id": "d30be733-c440-44d2-8870-af5b2e5c5cd2",
   "metadata": {},
   "outputs": [],
   "source": [
    "# Mengganti tanda koma menjadi titik\n",
    "df['OPA/90'] = df['OPA/90'].str.replace(',', '.')\n",
    "\n",
    "#Mengubah jenis data float pada variabel OPA/90\n",
    "df[\"OPA/90\"] = df[\"OPA/90\"].astype('float')"
   ]
  },
  {
   "cell_type": "code",
   "execution_count": 7,
   "id": "c28d16f4-0d8c-4ed4-a046-2bec9a4ed87f",
   "metadata": {},
   "outputs": [
    {
     "data": {
      "text/plain": [
       "id_player        int64\n",
       "player          object\n",
       "nation          object\n",
       "klub            object\n",
       "age              int64\n",
       "competition     object\n",
       "OPA              int64\n",
       "OPA/90         float64\n",
       "dtype: object"
      ]
     },
     "execution_count": 7,
     "metadata": {},
     "output_type": "execute_result"
    }
   ],
   "source": [
    "df.dtypes"
   ]
  },
  {
   "cell_type": "code",
   "execution_count": 8,
   "id": "6c4c1dec-16b4-4c92-9b7c-9dfe0acbcff0",
   "metadata": {},
   "outputs": [
    {
     "data": {
      "text/html": [
       "<div>\n",
       "<style scoped>\n",
       "    .dataframe tbody tr th:only-of-type {\n",
       "        vertical-align: middle;\n",
       "    }\n",
       "\n",
       "    .dataframe tbody tr th {\n",
       "        vertical-align: top;\n",
       "    }\n",
       "\n",
       "    .dataframe thead th {\n",
       "        text-align: right;\n",
       "    }\n",
       "</style>\n",
       "<table border=\"1\" class=\"dataframe\">\n",
       "  <thead>\n",
       "    <tr style=\"text-align: right;\">\n",
       "      <th></th>\n",
       "      <th>id_player</th>\n",
       "      <th>age</th>\n",
       "      <th>OPA</th>\n",
       "      <th>OPA/90</th>\n",
       "    </tr>\n",
       "  </thead>\n",
       "  <tbody>\n",
       "    <tr>\n",
       "      <th>count</th>\n",
       "      <td>166.000000</td>\n",
       "      <td>166.000000</td>\n",
       "      <td>166.000000</td>\n",
       "      <td>166.000000</td>\n",
       "    </tr>\n",
       "    <tr>\n",
       "      <th>mean</th>\n",
       "      <td>84.265060</td>\n",
       "      <td>28.831325</td>\n",
       "      <td>20.807229</td>\n",
       "      <td>1.079940</td>\n",
       "    </tr>\n",
       "    <tr>\n",
       "      <th>std</th>\n",
       "      <td>48.377326</td>\n",
       "      <td>4.882422</td>\n",
       "      <td>20.705706</td>\n",
       "      <td>0.641214</td>\n",
       "    </tr>\n",
       "    <tr>\n",
       "      <th>min</th>\n",
       "      <td>1.000000</td>\n",
       "      <td>18.000000</td>\n",
       "      <td>0.000000</td>\n",
       "      <td>0.000000</td>\n",
       "    </tr>\n",
       "    <tr>\n",
       "      <th>25%</th>\n",
       "      <td>43.250000</td>\n",
       "      <td>25.000000</td>\n",
       "      <td>3.250000</td>\n",
       "      <td>0.695000</td>\n",
       "    </tr>\n",
       "    <tr>\n",
       "      <th>50%</th>\n",
       "      <td>84.500000</td>\n",
       "      <td>29.000000</td>\n",
       "      <td>16.500000</td>\n",
       "      <td>1.040000</td>\n",
       "    </tr>\n",
       "    <tr>\n",
       "      <th>75%</th>\n",
       "      <td>125.750000</td>\n",
       "      <td>32.000000</td>\n",
       "      <td>32.000000</td>\n",
       "      <td>1.420000</td>\n",
       "    </tr>\n",
       "    <tr>\n",
       "      <th>max</th>\n",
       "      <td>167.000000</td>\n",
       "      <td>41.000000</td>\n",
       "      <td>121.000000</td>\n",
       "      <td>3.560000</td>\n",
       "    </tr>\n",
       "  </tbody>\n",
       "</table>\n",
       "</div>"
      ],
      "text/plain": [
       "        id_player         age         OPA      OPA/90\n",
       "count  166.000000  166.000000  166.000000  166.000000\n",
       "mean    84.265060   28.831325   20.807229    1.079940\n",
       "std     48.377326    4.882422   20.705706    0.641214\n",
       "min      1.000000   18.000000    0.000000    0.000000\n",
       "25%     43.250000   25.000000    3.250000    0.695000\n",
       "50%     84.500000   29.000000   16.500000    1.040000\n",
       "75%    125.750000   32.000000   32.000000    1.420000\n",
       "max    167.000000   41.000000  121.000000    3.560000"
      ]
     },
     "execution_count": 8,
     "metadata": {},
     "output_type": "execute_result"
    }
   ],
   "source": [
    "df.describe()"
   ]
  },
  {
   "cell_type": "markdown",
   "id": "09c5b81a-a99c-4b45-a3e2-9293a5751879",
   "metadata": {},
   "source": [
    "### Klasterisasi OPA/90"
   ]
  },
  {
   "cell_type": "code",
   "execution_count": 9,
   "id": "ce0136d6-28fe-4608-b6ab-08fc44193e75",
   "metadata": {},
   "outputs": [],
   "source": [
    "import pandas as pd\n",
    "import warnings\n",
    "from sklearn.cluster import KMeans\n",
    "from matplotlib import pyplot as plt\n",
    "from sklearn.metrics import silhouette_score\n",
    "from sklearn.preprocessing import MinMaxScaler\n",
    "from sklearn.decomposition import PCA\n",
    "\n",
    "warnings.filterwarnings(action='ignore')"
   ]
  },
  {
   "cell_type": "code",
   "execution_count": 10,
   "id": "ac078edd-f318-4229-817b-fd1bd610966e",
   "metadata": {},
   "outputs": [
    {
     "data": {
      "text/html": [
       "<div>\n",
       "<style scoped>\n",
       "    .dataframe tbody tr th:only-of-type {\n",
       "        vertical-align: middle;\n",
       "    }\n",
       "\n",
       "    .dataframe tbody tr th {\n",
       "        vertical-align: top;\n",
       "    }\n",
       "\n",
       "    .dataframe thead th {\n",
       "        text-align: right;\n",
       "    }\n",
       "</style>\n",
       "<table border=\"1\" class=\"dataframe\">\n",
       "  <thead>\n",
       "    <tr style=\"text-align: right;\">\n",
       "      <th></th>\n",
       "      <th>player</th>\n",
       "      <th>OPA/90</th>\n",
       "      <th>age</th>\n",
       "    </tr>\n",
       "  </thead>\n",
       "  <tbody>\n",
       "    <tr>\n",
       "      <th>0</th>\n",
       "      <td>Alisson</td>\n",
       "      <td>2.41</td>\n",
       "      <td>29</td>\n",
       "    </tr>\n",
       "    <tr>\n",
       "      <th>1</th>\n",
       "      <td>Alphonse Aerola</td>\n",
       "      <td>0.29</td>\n",
       "      <td>29</td>\n",
       "    </tr>\n",
       "    <tr>\n",
       "      <th>2</th>\n",
       "      <td>Kepa Arrizabalaga</td>\n",
       "      <td>1.82</td>\n",
       "      <td>27</td>\n",
       "    </tr>\n",
       "    <tr>\n",
       "      <th>3</th>\n",
       "      <td>Gavin Bazunu</td>\n",
       "      <td>1.50</td>\n",
       "      <td>20</td>\n",
       "    </tr>\n",
       "    <tr>\n",
       "      <th>4</th>\n",
       "      <td>Asmir Begovic</td>\n",
       "      <td>0.00</td>\n",
       "      <td>35</td>\n",
       "    </tr>\n",
       "    <tr>\n",
       "      <th>...</th>\n",
       "      <td>...</td>\n",
       "      <td>...</td>\n",
       "      <td>...</td>\n",
       "    </tr>\n",
       "    <tr>\n",
       "      <th>161</th>\n",
       "      <td>Martin Turk</td>\n",
       "      <td>0.50</td>\n",
       "      <td>18</td>\n",
       "    </tr>\n",
       "    <tr>\n",
       "      <th>162</th>\n",
       "      <td>Samir Ujkani</td>\n",
       "      <td>0.00</td>\n",
       "      <td>34</td>\n",
       "    </tr>\n",
       "    <tr>\n",
       "      <th>163</th>\n",
       "      <td>Guglielmo Vicaro</td>\n",
       "      <td>0.71</td>\n",
       "      <td>25</td>\n",
       "    </tr>\n",
       "    <tr>\n",
       "      <th>164</th>\n",
       "      <td>Jeroen Zoet</td>\n",
       "      <td>1.61</td>\n",
       "      <td>31</td>\n",
       "    </tr>\n",
       "    <tr>\n",
       "      <th>165</th>\n",
       "      <td>Petar Zovko</td>\n",
       "      <td>2.47</td>\n",
       "      <td>20</td>\n",
       "    </tr>\n",
       "  </tbody>\n",
       "</table>\n",
       "<p>166 rows × 3 columns</p>\n",
       "</div>"
      ],
      "text/plain": [
       "                player  OPA/90  age\n",
       "0              Alisson    2.41   29\n",
       "1      Alphonse Aerola    0.29   29\n",
       "2    Kepa Arrizabalaga    1.82   27\n",
       "3         Gavin Bazunu    1.50   20\n",
       "4        Asmir Begovic    0.00   35\n",
       "..                 ...     ...  ...\n",
       "161        Martin Turk    0.50   18\n",
       "162       Samir Ujkani    0.00   34\n",
       "163   Guglielmo Vicaro    0.71   25\n",
       "164        Jeroen Zoet    1.61   31\n",
       "165        Petar Zovko    2.47   20\n",
       "\n",
       "[166 rows x 3 columns]"
      ]
     },
     "execution_count": 10,
     "metadata": {},
     "output_type": "execute_result"
    }
   ],
   "source": [
    "df1 = df.loc[:, ['player', 'OPA/90', 'age']]\n",
    "df1"
   ]
  },
  {
   "cell_type": "code",
   "execution_count": 12,
   "id": "66859136-52bc-4223-990e-8ab56acd4bc9",
   "metadata": {},
   "outputs": [
    {
     "data": {
      "text/html": [
       "<div>\n",
       "<style scoped>\n",
       "    .dataframe tbody tr th:only-of-type {\n",
       "        vertical-align: middle;\n",
       "    }\n",
       "\n",
       "    .dataframe tbody tr th {\n",
       "        vertical-align: top;\n",
       "    }\n",
       "\n",
       "    .dataframe thead th {\n",
       "        text-align: right;\n",
       "    }\n",
       "</style>\n",
       "<table border=\"1\" class=\"dataframe\">\n",
       "  <thead>\n",
       "    <tr style=\"text-align: right;\">\n",
       "      <th></th>\n",
       "      <th>age</th>\n",
       "      <th>OPA/90</th>\n",
       "    </tr>\n",
       "  </thead>\n",
       "  <tbody>\n",
       "    <tr>\n",
       "      <th>0</th>\n",
       "      <td>29</td>\n",
       "      <td>2.41</td>\n",
       "    </tr>\n",
       "    <tr>\n",
       "      <th>1</th>\n",
       "      <td>29</td>\n",
       "      <td>0.29</td>\n",
       "    </tr>\n",
       "  </tbody>\n",
       "</table>\n",
       "</div>"
      ],
      "text/plain": [
       "   age  OPA/90\n",
       "0   29    2.41\n",
       "1   29    0.29"
      ]
     },
     "execution_count": 12,
     "metadata": {},
     "output_type": "execute_result"
    }
   ],
   "source": [
    "# mengambil 2 data yang akan diklasterisasi\n",
    "data = df1.loc[:, ['age', 'OPA/90']]\n",
    "data.head(2)"
   ]
  },
  {
   "cell_type": "code",
   "execution_count": 13,
   "id": "b144be88-5140-49e9-ae83-c66d5fd3ed97",
   "metadata": {},
   "outputs": [
    {
     "data": {
      "text/plain": [
       "array([[29.  ,  2.41],\n",
       "       [29.  ,  0.29],\n",
       "       [27.  ,  1.82],\n",
       "       [20.  ,  1.5 ],\n",
       "       [35.  ,  0.  ],\n",
       "       [29.  ,  0.5 ],\n",
       "       [33.  ,  0.  ],\n",
       "       [28.  ,  0.94],\n",
       "       [37.  ,  0.72],\n",
       "       [34.  ,  1.19],\n",
       "       [31.  ,  0.84],\n",
       "       [35.  ,  0.96],\n",
       "       [25.  ,  1.5 ],\n",
       "       [35.  ,  0.66],\n",
       "       [25.  ,  0.5 ],\n",
       "       [29.  ,  1.22],\n",
       "       [23.  ,  0.  ],\n",
       "       [30.  ,  1.28],\n",
       "       [35.  ,  1.18],\n",
       "       [29.  ,  2.09],\n",
       "       [32.  ,  1.17],\n",
       "       [30.  ,  1.16],\n",
       "       [22.  ,  1.94],\n",
       "       [35.  ,  0.53],\n",
       "       [33.  ,  0.94],\n",
       "       [32.  ,  0.96],\n",
       "       [29.  ,  2.33],\n",
       "       [28.  ,  1.41],\n",
       "       [30.  ,  2.04],\n",
       "       [24.  ,  1.13],\n",
       "       [26.  ,  1.42],\n",
       "       [32.  ,  0.75],\n",
       "       [25.  ,  1.  ],\n",
       "       [29.  ,  0.78],\n",
       "       [24.  ,  0.57],\n",
       "       [31.  ,  1.27],\n",
       "       [23.  ,  0.43],\n",
       "       [29.  ,  1.62],\n",
       "       [18.  ,  1.5 ],\n",
       "       [21.  ,  1.33],\n",
       "       [33.  ,  1.7 ],\n",
       "       [30.  ,  0.56],\n",
       "       [31.  ,  1.63],\n",
       "       [39.  ,  0.5 ],\n",
       "       [34.  ,  2.1 ],\n",
       "       [30.  ,  1.29],\n",
       "       [28.  ,  1.41],\n",
       "       [30.  ,  0.71],\n",
       "       [31.  ,  1.76],\n",
       "       [24.  ,  1.36],\n",
       "       [32.  ,  0.71],\n",
       "       [21.  ,  1.  ],\n",
       "       [30.  ,  1.36],\n",
       "       [28.  ,  1.  ],\n",
       "       [19.  ,  0.  ],\n",
       "       [26.  ,  0.68],\n",
       "       [25.  ,  0.  ],\n",
       "       [29.  ,  1.18],\n",
       "       [20.  ,  2.  ],\n",
       "       [31.  ,  1.1 ],\n",
       "       [29.  ,  0.76],\n",
       "       [40.  ,  1.88],\n",
       "       [23.  ,  1.57],\n",
       "       [21.  ,  1.24],\n",
       "       [34.  ,  1.32],\n",
       "       [32.  ,  0.  ],\n",
       "       [33.  ,  0.5 ],\n",
       "       [29.  ,  0.69],\n",
       "       [30.  ,  2.  ],\n",
       "       [30.  ,  1.19],\n",
       "       [23.  ,  2.47],\n",
       "       [26.  ,  0.53],\n",
       "       [39.  ,  0.91],\n",
       "       [27.  ,  1.24],\n",
       "       [22.  ,  2.  ],\n",
       "       [30.  ,  1.5 ],\n",
       "       [28.  ,  1.42],\n",
       "       [25.  ,  1.31],\n",
       "       [29.  ,  1.21],\n",
       "       [30.  ,  1.1 ],\n",
       "       [25.  ,  0.74],\n",
       "       [26.  ,  0.5 ],\n",
       "       [32.  ,  1.26],\n",
       "       [31.  ,  1.5 ],\n",
       "       [27.  ,  1.  ],\n",
       "       [30.  ,  1.5 ],\n",
       "       [23.  ,  1.12],\n",
       "       [24.  ,  1.  ],\n",
       "       [19.  ,  0.  ],\n",
       "       [33.  ,  0.79],\n",
       "       [29.  ,  1.26],\n",
       "       [34.  ,  1.96],\n",
       "       [23.  ,  1.4 ],\n",
       "       [32.  ,  1.67],\n",
       "       [32.  ,  0.79],\n",
       "       [20.  ,  1.  ],\n",
       "       [24.  ,  1.37],\n",
       "       [29.  ,  2.  ],\n",
       "       [30.  ,  1.  ],\n",
       "       [31.  ,  2.57],\n",
       "       [24.  ,  1.47],\n",
       "       [36.  ,  1.92],\n",
       "       [31.  ,  0.  ],\n",
       "       [28.  ,  1.4 ],\n",
       "       [30.  ,  1.18],\n",
       "       [20.  ,  1.  ],\n",
       "       [33.  ,  3.56],\n",
       "       [29.  ,  1.  ],\n",
       "       [27.  ,  0.65],\n",
       "       [30.  ,  1.02],\n",
       "       [34.  ,  0.71],\n",
       "       [33.  ,  1.3 ],\n",
       "       [33.  ,  1.42],\n",
       "       [32.  ,  0.73],\n",
       "       [33.  ,  1.33],\n",
       "       [27.  ,  2.04],\n",
       "       [27.  ,  2.37],\n",
       "       [25.  ,  0.92],\n",
       "       [30.  ,  0.  ],\n",
       "       [22.  ,  1.07],\n",
       "       [23.  ,  0.6 ],\n",
       "       [35.  ,  0.8 ],\n",
       "       [39.  ,  0.  ],\n",
       "       [28.  ,  2.  ],\n",
       "       [25.  ,  0.86],\n",
       "       [24.  ,  0.98],\n",
       "       [27.  ,  1.11],\n",
       "       [32.  ,  0.  ],\n",
       "       [27.  ,  1.  ],\n",
       "       [27.  ,  0.  ],\n",
       "       [38.  ,  0.73],\n",
       "       [27.  ,  1.46],\n",
       "       [39.  ,  1.36],\n",
       "       [23.  ,  0.  ],\n",
       "       [25.  ,  1.15],\n",
       "       [25.  ,  1.84],\n",
       "       [39.  ,  0.  ],\n",
       "       [26.  ,  1.49],\n",
       "       [28.  ,  1.04],\n",
       "       [37.  ,  0.5 ],\n",
       "       [26.  ,  0.42],\n",
       "       [34.  ,  0.71],\n",
       "       [41.  ,  0.  ],\n",
       "       [27.  ,  1.  ],\n",
       "       [29.  ,  1.04],\n",
       "       [24.  ,  0.57],\n",
       "       [28.  ,  1.45],\n",
       "       [25.  ,  1.  ],\n",
       "       [33.  ,  0.11],\n",
       "       [31.  ,  0.  ],\n",
       "       [21.  ,  0.  ],\n",
       "       [25.  ,  0.5 ],\n",
       "       [31.  ,  0.76],\n",
       "       [31.  ,  0.55],\n",
       "       [35.  ,  2.  ],\n",
       "       [31.  ,  0.65],\n",
       "       [30.  ,  1.21],\n",
       "       [22.  ,  1.33],\n",
       "       [32.  ,  0.76],\n",
       "       [36.  ,  0.81],\n",
       "       [32.  ,  1.9 ],\n",
       "       [18.  ,  0.5 ],\n",
       "       [34.  ,  0.  ],\n",
       "       [25.  ,  0.71],\n",
       "       [31.  ,  1.61],\n",
       "       [20.  ,  2.47]])"
      ]
     },
     "execution_count": 13,
     "metadata": {},
     "output_type": "execute_result"
    }
   ],
   "source": [
    "# convert to numpy array\n",
    "X = data.values\n",
    "X"
   ]
  },
  {
   "cell_type": "code",
   "execution_count": 14,
   "id": "3e476ff7-80de-4840-bf84-023100e9e798",
   "metadata": {},
   "outputs": [],
   "source": [
    "# kalkulasi WCSS\n",
    "def calculate_cost(X, centroids, cluster):\n",
    "  sum = 0\n",
    "  for i, val in enumerate(X):\n",
    "    sum += np.sqrt((centroids[int(cluster[i]), 0]-val[0])**2 +(centroids[int(cluster[i]), 1]-val[1])**2)\n",
    "  return sum"
   ]
  },
  {
   "cell_type": "code",
   "execution_count": 15,
   "id": "66735477-5a65-4e40-aae4-1ca5f64b50cb",
   "metadata": {},
   "outputs": [],
   "source": [
    "# implementasi kmeans\n",
    "\n",
    "def kmeans(X, k):\n",
    "  diff = 1\n",
    "  cluster = np.zeros(X.shape[0])\n",
    "  centroids = data.sample(n=k).values\n",
    "  while diff:\n",
    "    # untuk setiap pengamatan\n",
    "    for i, row in enumerate(X):\n",
    "      mn_dist = float('inf')\n",
    "        # dist titik dari semua centroid\n",
    "      for idx, centroid in enumerate(centroids):\n",
    "        d = np.sqrt((centroid[0]-row[0])**2 + (centroid[1]-row[1])**2)\n",
    "        # store closest centroid\n",
    "        if mn_dist > d:\n",
    "          mn_dist = d\n",
    "          cluster[i] = idx\n",
    "    new_centroids = pd.DataFrame(X).groupby(by=cluster).mean().values\n",
    "    # if centroids are same then leave\n",
    "    if np.count_nonzero(centroids-new_centroids) == 0:\n",
    "      diff = 0\n",
    "    else:\n",
    "      centroids = new_centroids\n",
    "  return centroids, cluster"
   ]
  },
  {
   "cell_type": "code",
   "execution_count": 16,
   "id": "f9391e65-1617-45a4-959d-45eb43737f50",
   "metadata": {},
   "outputs": [],
   "source": [
    "# mencari K value dengan metode Elbow\n",
    "\n",
    "cost_list = []\n",
    "for k in range(1, 10):\n",
    "    centroids, cluster = kmeans(X, k)\n",
    "    # WCSS (Within cluster sum of square)\n",
    "    cost = calculate_cost(X, centroids, cluster)\n",
    "    cost_list.append(cost)"
   ]
  },
  {
   "cell_type": "code",
   "execution_count": 17,
   "id": "aad9feb1-9152-465a-b68d-9ab84b8330db",
   "metadata": {},
   "outputs": [
    {
     "data": {
      "image/png": "[encoded data removed]",
      "text/plain": [
       "<Figure size 432x288 with 1 Axes>"
      ]
     },
     "metadata": {
      "needs_background": "light"
     },
     "output_type": "display_data"
    }
   ],
   "source": [
    "import seaborn as sns\n",
    "\n",
    "sns.lineplot(x=range(1,10), y=cost_list, marker='o')\n",
    "plt.xlabel('Number of Clusters')\n",
    "plt.ylabel('WCSS')\n",
    "plt.title('Elbow Method: WCSS vs. Number of Clusters')\n",
    "plt.show()"
   ]
  },
  {
   "cell_type": "code",
   "execution_count": 18,
   "id": "a8dc4e1c-e32a-42be-9901-5f236a0b09f4",
   "metadata": {},
   "outputs": [],
   "source": [
    "# membuat klaster\n",
    "k = 3\n",
    "centroids, cluster = kmeans(X, k)"
   ]
  },
  {
   "cell_type": "code",
   "execution_count": 20,
   "id": "1240947f-20b0-4eb0-9818-9cd675f3d9e4",
   "metadata": {},
   "outputs": [
    {
     "data": {
      "image/png": "[encoded data removed]",
      "text/plain": [
       "<Figure size 432x288 with 1 Axes>"
      ]
     },
     "metadata": {
      "needs_background": "light"
     },
     "output_type": "display_data"
    }
   ],
   "source": [
    "# Visualisasi Klaster\n",
    "sns.scatterplot(x=X[:,0], y=X[:, 1], hue=cluster)\n",
    "sns.scatterplot(x=centroids[:,0], y=centroids[:, 1], s=100, color='red')\n",
    "plt.xlabel('age_player')\n",
    "plt.ylabel('OPA/90')\n",
    "plt.show()"
   ]
  },
  {
   "cell_type": "code",
   "execution_count": null,
   "id": "853a3848-9c06-470d-8b02-0bbb78af4678",
   "metadata": {},
   "outputs": [],
   "source": [
    "df1['cluster']"
   ]
  },
  {
   "cell_type": "code",
   "execution_count": 21,
   "id": "bdac5251-5d43-459d-8321-2474985719bd",
   "metadata": {},
   "outputs": [
    {
     "data": {
      "text/plain": [
       "KMeans(n_clusters=3, random_state=42)"
      ]
     },
     "execution_count": 21,
     "metadata": {},
     "output_type": "execute_result"
    }
   ],
   "source": [
    "from sklearn.cluster import KMeans\n",
    "from sklearn.preprocessing import StandardScaler\n",
    "\n",
    "# Create and fit the K-means model\n",
    "kmeans = KMeans(n_clusters=3, random_state=42)  # Adjust the number of clusters as desired\n",
    "\n",
    "# Standardize the features\n",
    "scaler = MinMaxScaler()\n",
    "X_scaled = scaler.fit_transform(X)\n",
    "\n",
    "kmeans.fit(X_scaled)"
   ]
  },
  {
   "cell_type": "code",
   "execution_count": 22,
   "id": "05eb1cf3-5d75-4b56-8c73-89e033d78b73",
   "metadata": {},
   "outputs": [
    {
     "data": {
      "text/plain": [
       "array([[0.25217391, 0.26994382],\n",
       "       [0.53352985, 0.45329461],\n",
       "       [0.67160037, 0.1577815 ]])"
      ]
     },
     "execution_count": 22,
     "metadata": {},
     "output_type": "execute_result"
    }
   ],
   "source": [
    "kmeans.cluster_centers_"
   ]
  },
  {
   "cell_type": "code",
   "execution_count": 23,
   "id": "f6e8762c-56fc-446e-85e9-2f33c19c725e",
   "metadata": {},
   "outputs": [
    {
     "data": {
      "text/plain": [
       "<AxesSubplot:xlabel='OPA/90', ylabel='age'>"
      ]
     },
     "execution_count": 23,
     "metadata": {},
     "output_type": "execute_result"
    },
    {
     "data": {
      "image/png": "[encoded data removed]",
      "text/plain": [
       "<Figure size 432x288 with 1 Axes>"
      ]
     },
     "metadata": {
      "needs_background": "light"
     },
     "output_type": "display_data"
    }
   ],
   "source": [
    "df1['Clusters'] = kmeans.labels_\n",
    "sns.scatterplot(x=\"OPA/90\", y=\"age\",hue = 'Clusters',  data=df1 ,palette='viridis')"
   ]
  },
  {
   "cell_type": "code",
   "execution_count": null,
   "id": "84d6d348-74af-4357-94f0-1204b6b5f949",
   "metadata": {},
   "outputs": [],
   "source": [
    "df1"
   ]
  },
  {
   "cell_type": "code",
   "execution_count": null,
   "id": "b995bc63-0f5e-4628-b66c-47d591450aef",
   "metadata": {},
   "outputs": [],
   "source": [
    "# Filter data for Cluster 0 with Tackles_att3rd_per90 > 0.60\n",
    "filtered_data = df1[(df1['Clusters'] == 1) & (df1['OPA/90'] > 2.0)]\n",
    "plt.figure(figsize=(20, 9))\n",
    "\n",
    "# Create scatter plot with filtered player names as labels\n",
    "plt.scatter(filtered_data['OPA/90'], filtered_data.index, color=\"red\")\n",
    "\n",
    "for i, player in enumerate(filtered_data['player']):\n",
    "    x_value = filtered_data.loc[filtered_data['player'] == player, \"OPA/90\"].values[0]\n",
    "    plt.annotate(player, (x_value, filtered_data.index[i]), xytext=(5, 14), textcoords='offset points', ha='left', va='center')\n",
    "\n",
    "# Set labels and title\n",
    "plt.xlabel(\"OPA/90\")\n",
    "plt.ylabel(\"id_player\")\n",
    "plt.title(\"OPA/90 Highest\")\n",
    "\n",
    "# Adjust spacing for player names\n",
    "plt.subplots_adjust(left=0.25)\n",
    "\n",
    "# Show the plot\n",
    "plt.show()"
   ]
  },
  {
   "cell_type": "code",
   "execution_count": null,
   "id": "92020e3d-012f-4945-b089-36910d906f0e",
   "metadata": {},
   "outputs": [],
   "source": [
    "from sklearn.metrics import silhouette_score\n",
    "from sklearn.cluster import KMeans\n",
    "\n",
    "labels = kmeans.fit_predict(X_scaled)\n",
    "\n",
    "silhouette_avg = silhouette_score(X_scaled, labels)"
   ]
  },
  {
   "cell_type": "code",
   "execution_count": null,
   "id": "8d5f18d5-6cdb-4533-b582-abfe4ac11db1",
   "metadata": {},
   "outputs": [],
   "source": [
    "print(\"Nilai silhouette:\", silhouette_avg)"
   ]
  }
 ],
 "metadata": {
  "kernelspec": {
   "display_name": "Python 3",
   "language": "python",
   "name": "python3"
  },
  "language_info": {
   "codemirror_mode": {
    "name": "ipython",
    "version": 3
   },
   "file_extension": ".py",
   "mimetype": "text/x-python",
   "name": "python",
   "nbconvert_exporter": "python",
   "pygments_lexer": "ipython3",
   "version": "3.8.8"
  }
 },
 "nbformat": 4,
 "nbformat_minor": 5
}
